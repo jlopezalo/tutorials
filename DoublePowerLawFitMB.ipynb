{
 "cells": [
  {
   "cell_type": "code",
   "execution_count": null,
   "id": "e2a18d8c-b2ce-48c4-82a3-e70e8ebe0040",
   "metadata": {},
   "outputs": [],
   "source": [
    "!pip install git+https://github.com/jlopezalo/PyFMReader.git"
   ]
  },
  {
   "cell_type": "code",
   "execution_count": null,
   "id": "6916e04b-f88a-403a-b203-dab4e3504a02",
   "metadata": {},
   "outputs": [],
   "source": [
    "!pip install git+https://github.com/jlopezalo/PyFMRheo.git"
   ]
  },
  {
   "cell_type": "code",
   "execution_count": null,
   "id": "0ebbab7d-9f3b-4a21-b785-ddb7b5367928",
   "metadata": {},
   "outputs": [],
   "source": [
    "!pip install pandas\n",
    "!pip install numpy\n",
    "!pip install seaborn\n",
    "!pip install matplotlib"
   ]
  },
  {
   "cell_type": "code",
   "execution_count": null,
   "id": "6843e671-faaa-4425-8876-21e2b5056970",
   "metadata": {},
   "outputs": [],
   "source": [
    "import os\n",
    "import pandas as pd\n",
    "import numpy as np\n",
    "from scipy.stats import gmean, sem\n",
    "import seaborn as sns\n",
    "import matplotlib.pyplot as plt\n",
    "from pyafmrheo.models.double_powerlaw import DoublePowerLawModel"
   ]
  },
  {
   "cell_type": "code",
   "execution_count": null,
   "id": "8d1571ea-c89c-45bc-8d5a-27d7403d4580",
   "metadata": {},
   "outputs": [],
   "source": [
    "fluidity_exp_microrheo = []\n",
    "\n",
    "dataframe = pd.read_csv(\"path_to_your_file_with_G\")\n",
    "\n",
    "for file_id in dataframe.file_id.unique():\n",
    "    \n",
    "    if file_id in discarded_files:\n",
    "        continue\n",
    "    \n",
    "    subdf = dataframe[dataframe.file_id == file_id]\n",
    "    procdf = subdf.loc[:, ['frequency', 'G_storage', 'G_loss']]\n",
    "    aggdf = procdf.groupby(by='frequency', as_index=False).apply(geo_mean_overflow)\n",
    "    \n",
    "    # Define model\n",
    "    model = DoublePowerLawModel()\n",
    "    model.A_max = np.inf\n",
    "    model.A_min = 0\n",
    "    model.B_max = np.inf\n",
    "    model.B_min = 0\n",
    "    model.A_init = 1e3\n",
    "    model.B_init = 1e3\n",
    "    model.alpha_max = 1\n",
    "    model.alpha_min = 0\n",
    "    model.beta_max=1\n",
    "    model.beta_min = 0\n",
    "    model.alpha_init = 0.1\n",
    "    model.beta_init = 0.7\n",
    "    freq = aggdf.frequency.values\n",
    "    \n",
    "    split_indx = len(freq)\n",
    "    freq_for_fit = np.r_[freq, freq]\n",
    "    w0 = 1\n",
    "    G = np.r_[aggdf.G_storage.values, aggdf.G_loss.values]\n",
    "    model.fit(freq_for_fit, G, w0, split_indx)\n",
    "    G_res = model.eval(freq_for_fit, w0, split_indx)\n",
    "    \n",
    "    # Plot\n",
    "    print(file_id)\n",
    "    print(model.alpha)\n",
    "    print(model.beta)\n",
    "    print(model.A)\n",
    "    print(model.B)\n",
    "    print(len(aggdf.G_storage.values))\n",
    "    fluidity_exp_microrheo.append(model.alpha)\n",
    "    sns.set_palette(['#E72E38', '#E72E38'])\n",
    "    sns.lineplot(x='frequency', y='G_storage', data=procdf, marker='', linestyle='', estimator=geo_mean_overflow, errorbar='se', err_style='bars')\n",
    "    sns.lineplot(x='frequency', y='G_loss', data=procdf, marker='', linestyle='', estimator=geo_mean_overflow, errorbar='se', err_style='bars')\n",
    "    plt.plot(freq, G_res[:split_indx], color='#2B3E51',linewidth=2.5, linestyle='--')\n",
    "    plt.plot(freq, G_res[split_indx:], color='#2B3E51',linewidth=2.5, linestyle='--')\n",
    "    plt.plot(freq, aggdf.G_storage.values, 'o', color='#E72E38',)\n",
    "    plt.plot(freq, aggdf.G_loss.values, 'o', color='#E72E38', fillstyle='none')\n",
    "    plt.xscale('log')\n",
    "    plt.yscale('log')\n",
    "    plt.xlabel('Frequency [Hz]', fontsize = 15)\n",
    "    plt.ylabel(\"G'& G'' [Pa]\", fontsize = 15)\n",
    "    plt.show()"
   ]
  }
 ],
 "metadata": {
  "kernelspec": {
   "display_name": "Python 3 (ipykernel)",
   "language": "python",
   "name": "python3"
  },
  "language_info": {
   "codemirror_mode": {
    "name": "ipython",
    "version": 3
   },
   "file_extension": ".py",
   "mimetype": "text/x-python",
   "name": "python",
   "nbconvert_exporter": "python",
   "pygments_lexer": "ipython3",
   "version": "3.10.6"
  }
 },
 "nbformat": 4,
 "nbformat_minor": 5
}
